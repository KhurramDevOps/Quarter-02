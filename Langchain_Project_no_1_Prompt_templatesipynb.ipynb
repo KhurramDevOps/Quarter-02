{
  "nbformat": 4,
  "nbformat_minor": 0,
  "metadata": {
    "colab": {
      "provenance": [],
      "gpuType": "T4",
      "authorship_tag": "ABX9TyPCNkmDR+zQCL4H9azjuwdP",
      "include_colab_link": true
    },
    "kernelspec": {
      "name": "python3",
      "display_name": "Python 3"
    },
    "language_info": {
      "name": "python"
    },
    "accelerator": "GPU"
  },
  "cells": [
    {
      "cell_type": "markdown",
      "metadata": {
        "id": "view-in-github",
        "colab_type": "text"
      },
      "source": [
        "<a href=\"https://colab.research.google.com/github/KhurramDevOps/Quarter-02/blob/master/Langchain_Project_no_1_Prompt_templatesipynb.ipynb\" target=\"_parent\"><img src=\"https://colab.research.google.com/assets/colab-badge.svg\" alt=\"Open In Colab\"/></a>"
      ]
    },
    {
      "cell_type": "markdown",
      "source": [
        "# **LangChain and Google Gemini Flash 2.0 Integration**"
      ],
      "metadata": {
        "id": "gdhonVRIMn8G"
      }
    },
    {
      "cell_type": "code",
      "execution_count": 1,
      "metadata": {
        "id": "W_TjaGLh5qj6"
      },
      "outputs": [],
      "source": [
        "from google.colab import userdata\n",
        "GOOGLE_API_KEY = userdata.get('GEMINI_API_KEY')"
      ]
    },
    {
      "cell_type": "code",
      "source": [
        "!pip install --upgrade --quiet langchain_google_genai"
      ],
      "metadata": {
        "colab": {
          "base_uri": "https://localhost:8080/"
        },
        "collapsed": true,
        "id": "uuKHSb3d6Sv_",
        "outputId": "29c44de6-a300-47ed-8beb-9ab15e86737f"
      },
      "execution_count": 2,
      "outputs": [
        {
          "output_type": "stream",
          "name": "stdout",
          "text": [
            "\u001b[?25l   \u001b[90m━━━━━━━━━━━━━━━━━━━━━━━━━━━━━━━━━━━━━━━━\u001b[0m \u001b[32m0.0/41.3 kB\u001b[0m \u001b[31m?\u001b[0m eta \u001b[36m-:--:--\u001b[0m\r\u001b[2K   \u001b[90m━━━━━━━━━━━━━━━━━━━━━━━━━━━━━━━━━━━━━━━━\u001b[0m \u001b[32m41.3/41.3 kB\u001b[0m \u001b[31m3.8 MB/s\u001b[0m eta \u001b[36m0:00:00\u001b[0m\n",
            "\u001b[?25h"
          ]
        }
      ]
    },
    {
      "cell_type": "markdown",
      "source": [
        "# **1. Defining Prompt Templates**"
      ],
      "metadata": {
        "id": "U25NS7ViKz2W"
      }
    },
    {
      "cell_type": "code",
      "source": [
        "from langchain_google_genai import ChatGoogleGenerativeAI\n",
        "from langchain.prompts import PromptTemplate\n",
        "from IPython.display import Markdown, display"
      ],
      "metadata": {
        "id": "8SHm74qL6bkW"
      },
      "execution_count": 3,
      "outputs": []
    },
    {
      "cell_type": "code",
      "source": [
        "# Define the first Prompt Template\n",
        "first_prompt = PromptTemplate(\n",
        "    input_variables = [\"question\"],\n",
        "    template=\"\"\"\n",
        "Provide a detailed explanation of the topic: \"{question}\".\n",
        "\n",
        "The explanation should:\n",
        "- Be clear and easy to understand for a general audience.\n",
        "- Include relevant examples or applications, if possible.\n",
        "- Avoid unnecessary jargon while maintaining accuracy\n",
        "    \"\"\"\n",
        ")\n",
        "\n",
        "# Define the second prompt Template\n",
        "second_prompt = PromptTemplate(\n",
        "    input_variables = [\"first_response\"],\n",
        "    template=\"\"\"\n",
        "Based on the following response: \"{first_response}\", create a detailed markdown explanation.\n",
        "\n",
        "The markdown explanation should include:\n",
        "# Introduction\n",
        "A brief overview of the topic.\n",
        "\n",
        "## Key Concepts\n",
        "Main ideas or points related to the topic.\n",
        "\n",
        "## In-depth Analysis\n",
        "A deeper exploration of critical subtopics or concepts.\n",
        "\n",
        "## Examples or Applications\n",
        "Relevant real-world examples, applications, or scenarios.\n",
        "\n",
        "## Conclusion\n",
        "A summary that reinforces the key takeaways.\n",
        "\"\"\"\n",
        ")\n",
        "\n",
        "# Define the third Prompt Template\n",
        "third_prompt = PromptTemplate(\n",
        "    input_variables = [\"second_response\"],\n",
        "    template=\"\"\"\n",
        "Convert the following detailed explanation into a well-structured image generation prompt:\n",
        "{second_response}\n",
        "\n",
        "The image generation prompt should:\n",
        "- Be specific, vivid, and descriptive.\n",
        "- Highlight key visual elements, styles, or themes.\n",
        "- Provide sufficient details to create a realistic or artistic image.\n",
        "- Avoid ambiguity to ensure accurate image generation.\n",
        "\"\"\"\n",
        ")"
      ],
      "metadata": {
        "id": "u_ztiDVK6qt5"
      },
      "execution_count": 4,
      "outputs": []
    },
    {
      "cell_type": "markdown",
      "source": [
        "# **2. Configuring ChatGoogleGenerativeAI model**"
      ],
      "metadata": {
        "id": "CQO3w1giLKJ1"
      }
    },
    {
      "cell_type": "code",
      "source": [
        "# Configure the ChatGoogleGenerativeAI model\n",
        "llm = ChatGoogleGenerativeAI(\n",
        "    api_key=GOOGLE_API_KEY,\n",
        "    temperature=0.4,\n",
        "    model=\"gemini-2.0-flash-exp\",\n",
        ")\n",
        "\n",
        "llm2 = ChatGoogleGenerativeAI(\n",
        "    api_key=GOOGLE_API_KEY,\n",
        "    temperature=0.6,\n",
        "    model=\"gemini-2.0-flash-exp\",\n",
        "    max_output_tokens=1000,\n",
        ")\n",
        "\n",
        "llm3 = ChatGoogleGenerativeAI(\n",
        "    api_key=GOOGLE_API_KEY,\n",
        "    temperature=0.7,\n",
        "    model=\"gemini-2.0-flash-exp\",\n",
        "    max_output_tokens=150,\n",
        ")\n"
      ],
      "metadata": {
        "id": "SUzn_VvC7Qnp"
      },
      "execution_count": 27,
      "outputs": []
    },
    {
      "cell_type": "markdown",
      "source": [
        "# **3. Creating Chains and getting Responses**"
      ],
      "metadata": {
        "id": "TxrFNrRsLAmy"
      }
    },
    {
      "cell_type": "code",
      "source": [
        "# Creating Chains for the prompts\n",
        "first_chain = first_prompt | llm\n",
        "second_chain = second_prompt | llm2\n",
        "third_chain = third_prompt | llm3"
      ],
      "metadata": {
        "id": "DT1w-DKN8BZL"
      },
      "execution_count": 28,
      "outputs": []
    },
    {
      "cell_type": "code",
      "source": [
        "# Get the first response\n",
        "text = \"Agentic AI\"\n",
        "first_response :str = first_chain.invoke({\"question\": text})\n",
        "print(\"\\n\\n\\nFirst chain:\\n\\n\")\n",
        "display(Markdown(first_response.content))\n",
        "\n",
        "# Get the second response\n",
        "second_response:str = second_chain.invoke({\"first_response\": first_response.content})\n",
        "print(\"\\n\\n\\nSecond chain:\\n\\n\")\n",
        "display(Markdown(second_response.content))\n",
        "\n",
        "# Get the third response\n",
        "third_response:str = third_chain.invoke({\"second_response\": second_response.content})\n",
        "print(\"\\n\\n\\nThird chain:\\n\\n\")\n",
        "display(Markdown(third_response.content))"
      ],
      "metadata": {
        "colab": {
          "base_uri": "https://localhost:8080/",
          "height": 1000
        },
        "id": "1TgUXFXJ8-ZJ",
        "outputId": "ecd046ee-8a1d-46b1-dc4c-4a8276060a83"
      },
      "execution_count": 32,
      "outputs": [
        {
          "output_type": "stream",
          "name": "stdout",
          "text": [
            "\n",
            "\n",
            "\n",
            "First chain:\n",
            "\n",
            "\n"
          ]
        },
        {
          "output_type": "display_data",
          "data": {
            "text/plain": [
              "<IPython.core.display.Markdown object>"
            ],
            "text/markdown": "Okay, let's dive into \"Agentic AI\" and break it down in a way that's easy to grasp.\n\n**What is Agentic AI?**\n\nImagine a helpful assistant, but instead of just following your instructions step-by-step, it can think for itself, plan, and take actions to achieve a goal you've given it. That's essentially what Agentic AI is all about.\n\nAt its core, **Agentic AI refers to artificial intelligence systems that can act autonomously to achieve a specific objective.** Unlike traditional AI, which often requires very specific instructions for each task, Agentic AI can:\n\n* **Understand a high-level goal:** You might tell it, \"Plan a surprise birthday party for my friend,\" rather than \"Go to this website, find a cake, add it to the cart...\"\n* **Plan and strategize:** It can break down the goal into smaller steps, figure out the order of operations, and adapt its plan as it goes.\n* **Take actions:** It can interact with the real world (or digital world) by searching the internet, sending emails, using tools, and making decisions.\n* **Learn and adapt:** It can analyze the results of its actions and adjust its approach to improve its performance over time.\n\nThink of it as giving an AI a mission, and then letting it figure out the best way to accomplish that mission, rather than micro-managing every single step.\n\n**Key Differences from Traditional AI:**\n\nTraditional AI, like image recognition or language translation, is often *reactive*. It responds to a specific input with a specific output. Agentic AI, on the other hand, is *proactive*. It takes the initiative to achieve a goal.\n\nHere's a simple analogy:\n\n* **Traditional AI:** Like a calculator. You give it numbers and an operation, and it gives you the answer.\n* **Agentic AI:** Like a personal chef. You tell them you want a delicious dinner, and they figure out the menu, shop for ingredients, and cook the meal.\n\n**Key Characteristics of Agentic AI:**\n\n* **Autonomy:** The ability to act independently without constant human intervention.\n* **Goal-Oriented:** Driven by a specific objective or task.\n* **Planning & Reasoning:** Can break down complex tasks into smaller, manageable steps.\n* **Interaction:** Can interact with the environment (digital or physical) to gather information and take actions.\n* **Learning & Adaptation:** Can improve its performance over time based on experience.\n\n**Examples and Applications of Agentic AI:**\n\nThe field of Agentic AI is still relatively new, but it's rapidly evolving. Here are some examples of how it's being used or could be used:\n\n* **Personal Assistants:** Imagine an AI assistant that doesn't just schedule appointments but also anticipates your needs, proactively researches travel options, and even manages your finances.\n* **Autonomous Research:** An AI that can independently explore a scientific question, gather data from various sources, analyze the information, and even formulate new hypotheses.\n* **Content Creation:** An AI that can generate original articles, stories, or even music based on a high-level prompt.\n* **Robotics:** Robots that can navigate complex environments, perform tasks without explicit programming, and adapt to unexpected situations.\n* **Supply Chain Management:** AI agents that can optimize logistics, predict demand, and manage inventory autonomously.\n* **Cybersecurity:** AI agents that can detect and respond to threats in real-time, without human intervention.\n* **Game Playing:** AI agents that can learn to play complex games like Go or Starcraft at a superhuman level.\n\n**Why is Agentic AI Important?**\n\nAgentic AI has the potential to revolutionize many aspects of our lives because it can:\n\n* **Automate complex tasks:** freeing up human time and resources for more creative and strategic work.\n* **Solve problems more efficiently:** by using its ability to plan, reason, and adapt.\n* **Make better decisions:** by analyzing vast amounts of data and identifying patterns that humans might miss.\n* **Personalize experiences:** by understanding individual needs and preferences.\n\n**Challenges and Considerations:**\n\nWhile the potential of Agentic AI is immense, there are also challenges and considerations:\n\n* **Ethical Concerns:** Ensuring that AI agents act in a responsible and ethical manner is crucial.\n* **Safety:** We need to ensure that AI agents do not cause harm, either intentionally or unintentionally.\n* **Control:** How do we maintain control over AI agents as they become more autonomous?\n* **Bias:** AI models can inherit biases from the data they are trained on, leading to unfair or discriminatory outcomes.\n\n**In Conclusion:**\n\nAgentic AI represents a significant leap forward in the field of artificial intelligence. It moves beyond reactive systems to create proactive, autonomous agents that can solve complex problems and achieve goals with minimal human intervention. While still in its early stages, Agentic AI has the potential to transform industries and reshape our relationship with technology. As this field continues to develop, it's important to address the ethical, safety, and control challenges to ensure that this powerful technology is used for the benefit of humanity.\n"
          },
          "metadata": {}
        },
        {
          "output_type": "stream",
          "name": "stdout",
          "text": [
            "\n",
            "\n",
            "\n",
            "Second chain:\n",
            "\n",
            "\n"
          ]
        },
        {
          "output_type": "display_data",
          "data": {
            "text/plain": [
              "<IPython.core.display.Markdown object>"
            ],
            "text/markdown": "```markdown\n# Introduction\n\nThis document provides a detailed explanation of Agentic AI, a rapidly evolving field within artificial intelligence. Agentic AI represents a shift from traditional reactive AI systems to proactive, autonomous agents capable of planning, strategizing, and acting to achieve specific goals. This explanation will break down the core concepts, explore key differences from traditional AI, examine real-world applications, and discuss the associated challenges and considerations.\n\n## Key Concepts\n\n* **Autonomy:** Agentic AI systems possess the ability to act independently without constant human intervention. They are not simply following pre-programmed steps, but rather making decisions based on their understanding of a given objective.\n* **Goal-Oriented:** These systems are driven by a specific objective or task, which they strive to achieve through their actions. The goal provides the direction for their planning and execution.\n* **Planning & Reasoning:** Agentic AI is capable of breaking down complex tasks into smaller, manageable steps. They can formulate plans, reason about the order of operations, and adapt their strategies as needed.\n* **Interaction:** These AI agents can interact with their environment, whether it's the digital world or the physical world. They can gather information, use tools, and take actions to achieve their goals.\n* **Learning & Adaptation:** Agentic AI can learn from experience. They analyze the results of their actions and adjust their approach to improve their performance over time, making them more effective and efficient.\n\n## In-depth Analysis\n\n### Agentic AI vs. Traditional AI\n\nThe fundamental difference between Agentic AI and traditional AI lies in their approach to tasks. Traditional AI is largely *reactive*. It responds to a specific input with a specific output, much like a calculator. For example, an image recognition AI identifies objects in an image based on its training data.\n\nAgentic AI, on the other hand, is *proactive*. It takes the initiative to achieve a goal. Instead of being given specific instructions for each step, it is provided with a high-level objective and then figures out the best way to accomplish it. This involves planning, strategizing, and taking actions autonomously.\n\nThe analogy of a calculator (traditional AI) versus a personal chef (Agentic AI) effectively illustrates this difference. A calculator performs specific operations given to it, while a chef takes a high-level request (a delicious dinner) and handles all the steps involved, from menu planning to cooking.\n\n### Key Characteristics Explained\n\n*   **Autonomy:** This is not about AI \"going rogue,\" but rather about the AI having the capacity to make decisions and take actions without needing a human to constantly tell it what to do at every step.\n*   **Goal-Oriented:** The goal provides the framework for all actions. The AI is not operating without purpose; it is actively working towards a defined outcome.\n*   **Planning & Reasoning:** This involves complex cognitive processes such as breaking down large tasks into smaller steps, prioritizing actions, and adapting plans based on new information or obstacles.\n*   **Interaction:** This can range from searching the internet to manipulating physical objects. The ability to interact with the environment is crucial for gathering information and taking actions.\n*   **Learning & Adaptation:** This is essential for continuous improvement. The AI learns from its successes and failures and adjusts its strategies to become more effective over time.\n\n## Examples or Applications\n\nThe applications of Agentic AI are vast and continuously expanding. Here are some notable examples:\n\n*   **Personal Assistants:** Beyond scheduling, these assistants could proactively manage finances, research travel options based on preferences, and anticipate needs.\n*   **Autonomous Research:** AI agents can independently explore scientific questions, gather data from various sources, analyze the information, and even formulate new hypotheses, accelerating the research process.\n*   **Content Creation:** Agentic AI can generate original articles, stories, music, or other creative content, moving beyond simply summarizing existing information.\n*   **Robotics:** Robots can navigate complex environments, perform tasks without explicit programming, and adapt to unexpected situations, enabling them to work in dynamic and unpredictable settings.\n*   **Supply Chain Management:** AI agents can optimize logistics, predict demand, and manage inventory autonomously, leading to more efficient and cost-effective operations.\n*   **Cybersecurity:** Agentic AI can detect and respond to threats in real-time, without human intervention, providing a more robust defense against cyberattacks.\n*   **Game Playing:** AI agents can learn to play complex games like Go or Starcraft at a superhuman level, showcasing their ability to strategize and adapt to complex scenarios.\n\n## Conclusion\n\nAgentic AI represents a significant paradigm shift in the field of artificial intelligence. By moving away from reactive systems to proactive, autonomous agents, it opens up new possibilities for automation, problem-solving, and personalized experiences. While the technology is still in its early stages of"
          },
          "metadata": {}
        },
        {
          "output_type": "stream",
          "name": "stdout",
          "text": [
            "\n",
            "\n",
            "\n",
            "Third chain:\n",
            "\n",
            "\n"
          ]
        },
        {
          "output_type": "display_data",
          "data": {
            "text/plain": [
              "<IPython.core.display.Markdown object>"
            ],
            "text/markdown": "Okay, here's a well-structured image generation prompt based on the provided text, aiming for a visually engaging and informative representation of Agentic AI:\n\n**Prompt:**\n\nA futuristic, vibrant illustration depicting the concept of Agentic AI. In the center, visualize a stylized, glowing AI core or brain, composed of interconnected networks of light, pulsating with energy. Radiating outwards from this core are multiple interconnected pathways, each leading to different visual representations of Agentic AI applications.\n\nThese pathways should showcase the following:\n\n*   **Personal Assistant:** A holographic, friendly-looking AI assistant interface interacting with a user, displaying a calendar, travel plans, and financial data, with a subtle background of a bustling city.\n*   **"
          },
          "metadata": {}
        }
      ]
    }
  ]
}