{
  "nbformat": 4,
  "nbformat_minor": 0,
  "metadata": {
    "colab": {
      "provenance": [],
      "gpuType": "T4",
      "authorship_tag": "ABX9TyOl90lr/yil+B39vqbQVAsA",
      "include_colab_link": true
    },
    "kernelspec": {
      "name": "python3",
      "display_name": "Python 3"
    },
    "language_info": {
      "name": "python"
    },
    "accelerator": "GPU"
  },
  "cells": [
    {
      "cell_type": "markdown",
      "metadata": {
        "id": "view-in-github",
        "colab_type": "text"
      },
      "source": [
        "<a href=\"https://colab.research.google.com/github/KhurramDevOps/Quarter-02/blob/master/Langchain_Project_no_1_Prompt_templatesipynb.ipynb\" target=\"_parent\"><img src=\"https://colab.research.google.com/assets/colab-badge.svg\" alt=\"Open In Colab\"/></a>"
      ]
    },
    {
      "cell_type": "markdown",
      "source": [
        "# **LangChain and Google Gemini Flash 2.0 Integration**"
      ],
      "metadata": {
        "id": "gdhonVRIMn8G"
      }
    },
    {
      "cell_type": "code",
      "execution_count": 1,
      "metadata": {
        "id": "W_TjaGLh5qj6"
      },
      "outputs": [],
      "source": [
        "from google.colab import userdata\n",
        "GOOGLE_API_KEY = userdata.get('GEMINI_API_KEY')"
      ]
    },
    {
      "cell_type": "code",
      "source": [
        "!pip install --upgrade --quiet langchain_google_genai"
      ],
      "metadata": {
        "colab": {
          "base_uri": "https://localhost:8080/"
        },
        "collapsed": true,
        "id": "uuKHSb3d6Sv_",
        "outputId": "29c44de6-a300-47ed-8beb-9ab15e86737f"
      },
      "execution_count": 2,
      "outputs": [
        {
          "output_type": "stream",
          "name": "stdout",
          "text": [
            "\u001b[?25l   \u001b[90m━━━━━━━━━━━━━━━━━━━━━━━━━━━━━━━━━━━━━━━━\u001b[0m \u001b[32m0.0/41.3 kB\u001b[0m \u001b[31m?\u001b[0m eta \u001b[36m-:--:--\u001b[0m\r\u001b[2K   \u001b[90m━━━━━━━━━━━━━━━━━━━━━━━━━━━━━━━━━━━━━━━━\u001b[0m \u001b[32m41.3/41.3 kB\u001b[0m \u001b[31m3.8 MB/s\u001b[0m eta \u001b[36m0:00:00\u001b[0m\n",
            "\u001b[?25h"
          ]
        }
      ]
    },
    {
      "cell_type": "markdown",
      "source": [
        "# **1. Defining Prompt Templates**"
      ],
      "metadata": {
        "id": "U25NS7ViKz2W"
      }
    },
    {
      "cell_type": "code",
      "source": [
        "from langchain_google_genai import ChatGoogleGenerativeAI\n",
        "from langchain.prompts import PromptTemplate\n",
        "from IPython.display import Markdown, display"
      ],
      "metadata": {
        "id": "8SHm74qL6bkW"
      },
      "execution_count": 3,
      "outputs": []
    },
    {
      "cell_type": "code",
      "source": [
        "# Define the first Prompt Template\n",
        "first_prompt = PromptTemplate(\n",
        "    input_variables = [\"question\"],\n",
        "    template=\"\"\"\n",
        "Provide a detailed explanation of the topic: \"{question}\".\n",
        "\n",
        "The explanation should:\n",
        "- Be clear and easy to understand for a general audience.\n",
        "- Include relevant examples or applications, if possible.\n",
        "- Avoid unnecessary jargon while maintaining accuracy\n",
        "    \"\"\"\n",
        ")\n",
        "\n",
        "# Define the second prompt Template\n",
        "second_prompt = PromptTemplate(\n",
        "    input_variables = [\"first_response\"],\n",
        "    template=\"\"\"\n",
        "Based on the following response: \"{first_response}\", create a detailed markdown explanation.\n",
        "\n",
        "The markdown explanation should include:\n",
        "# Introduction\n",
        "A brief overview of the topic.\n",
        "\n",
        "## Key Concepts\n",
        "Main ideas or points related to the topic.\n",
        "\n",
        "## In-depth Analysis\n",
        "A deeper exploration of critical subtopics or concepts.\n",
        "\n",
        "## Examples or Applications\n",
        "Relevant real-world examples, applications, or scenarios.\n",
        "\n",
        "## Conclusion\n",
        "A summary that reinforces the key takeaways.\n",
        "\"\"\"\n",
        ")\n",
        "\n",
        "# Define the third Prompt Template\n",
        "third_prompt = PromptTemplate(\n",
        "    input_variables = [\"second_response\"],\n",
        "    template=\"\"\"\n",
        "Convert the following detailed explanation into a well-structured image generation prompt:\n",
        "{second_response}\n",
        "\n",
        "The image generation prompt should:\n",
        "- Be specific, vivid, and descriptive.\n",
        "- Highlight key visual elements, styles, or themes.\n",
        "- Provide sufficient details to create a realistic or artistic image.\n",
        "- Avoid ambiguity to ensure accurate image generation.\n",
        "\"\"\"\n",
        ")"
      ],
      "metadata": {
        "id": "u_ztiDVK6qt5"
      },
      "execution_count": 4,
      "outputs": []
    },
    {
      "cell_type": "markdown",
      "source": [
        "# **2. Configuring ChatGoogleGenerativeAI model**"
      ],
      "metadata": {
        "id": "CQO3w1giLKJ1"
      }
    },
    {
      "cell_type": "code",
      "source": [
        "# Configure the ChatGoogleGenerativeAI model\n",
        "llm = ChatGoogleGenerativeAI(\n",
        "    api_key=GOOGLE_API_KEY,\n",
        "    temperature=0.4,\n",
        "    model=\"gemini-2.0-flash-exp\",\n",
        ")\n",
        "\n",
        "llm2 = ChatGoogleGenerativeAI(\n",
        "    api_key=GOOGLE_API_KEY,\n",
        "    temperature=0.6,\n",
        "    model=\"gemini-2.0-flash-exp\",\n",
        "    max_output_tokens=1000,\n",
        ")\n",
        "\n",
        "llm3 = ChatGoogleGenerativeAI(\n",
        "    api_key=GOOGLE_API_KEY,\n",
        "    temperature=0.7,\n",
        "    model=\"gemini-2.0-flash-exp\",\n",
        "    max_output_tokens=160,\n",
        ")\n"
      ],
      "metadata": {
        "id": "SUzn_VvC7Qnp"
      },
      "execution_count": 5,
      "outputs": []
    },
    {
      "cell_type": "markdown",
      "source": [
        "# **3. Creating Chains and getting Responses**"
      ],
      "metadata": {
        "id": "TxrFNrRsLAmy"
      }
    },
    {
      "cell_type": "code",
      "source": [
        "# Creating Chains for the prompts\n",
        "first_chain = first_prompt | llm\n",
        "second_chain = second_prompt | llm2\n",
        "third_chain = third_prompt | llm3"
      ],
      "metadata": {
        "id": "DT1w-DKN8BZL"
      },
      "execution_count": 6,
      "outputs": []
    },
    {
      "cell_type": "code",
      "source": [
        "# Get the first response\n",
        "text = \"Agentic AI\"\n",
        "first_response :str = first_chain.invoke({\"question\": text})\n",
        "print(\"\\n\\n\\nFirst chain:\\n\\n\")\n",
        "display(Markdown(first_response.content))\n",
        "\n",
        "# Get the second response\n",
        "second_response:str = second_chain.invoke({\"first_response\": first_response.content})\n",
        "print(\"\\n\\n\\nSecond chain:\\n\\n\")\n",
        "display(Markdown(second_response.content))\n",
        "\n",
        "# Get the third response\n",
        "third_response:str = third_chain.invoke({\"second_response\": second_response.content})\n",
        "print(\"\\n\\n\\nThird chain:\\n\\n\")\n",
        "display(Markdown(third_response.content))"
      ],
      "metadata": {
        "colab": {
          "base_uri": "https://localhost:8080/",
          "height": 1000
        },
        "id": "1TgUXFXJ8-ZJ",
        "outputId": "cd9e3e38-10aa-4cec-baf2-b6dba9ece3a6"
      },
      "execution_count": 7,
      "outputs": [
        {
          "output_type": "stream",
          "name": "stdout",
          "text": [
            "\n",
            "\n",
            "\n",
            "First chain:\n",
            "\n",
            "\n"
          ]
        },
        {
          "output_type": "display_data",
          "data": {
            "text/plain": [
              "<IPython.core.display.Markdown object>"
            ],
            "text/markdown": "Okay, let's break down \"Agentic AI\" in a way that's easy to grasp.\n\n**What is Agentic AI?**\n\nImagine a regular computer program. It follows instructions step-by-step, like a recipe. You give it input, it processes it, and gives you output. It's passive.\n\nNow, imagine an AI that's more like a helpful assistant. It doesn't just follow instructions; it can:\n\n* **Perceive:** Understand its environment (data, information, the world around it).\n* **Plan:** Figure out the best way to achieve a goal.\n* **Act:** Take steps to execute that plan.\n* **Learn:** Improve its performance over time based on its experiences.\n\nThat's the essence of Agentic AI. It's an AI that can act autonomously, make decisions, and pursue goals without constant human intervention. Think of it as an AI with a \"mind\" of its own, albeit a programmed one.\n\n**Key Differences from Traditional AI:**\n\nTraditional AI, like image recognition or spam filters, is typically *reactive*. It responds to specific inputs. Agentic AI, on the other hand, is *proactive*. It can initiate actions and work towards a larger objective.\n\nHere's a simple analogy:\n\n* **Traditional AI:** A calculator. You input numbers, it gives you the result.\n* **Agentic AI:** A personal assistant. You tell it to \"plan a surprise birthday party,\" and it figures out the guest list, venue, decorations, and sends out invitations.\n\n**Core Components of Agentic AI:**\n\nWhile the specifics can vary, most Agentic AI systems have these core components:\n\n1. **Perception:** This involves gathering information from the environment using sensors or data inputs. This could be anything from reading text, analyzing images, or understanding user commands.\n2. **Planning:** Based on its goals and the information it has gathered, the AI creates a plan of action. This might involve breaking down a complex task into smaller, manageable steps.\n3. **Action:** The AI executes its plan, taking actions in the real world or within a digital environment. This could involve sending emails, controlling a robot, or manipulating data.\n4. **Learning:** The AI monitors the results of its actions and uses this feedback to improve its future performance. This could involve adjusting its strategies or learning new skills.\n\n**Examples and Applications:**\n\nAgentic AI is still an evolving field, but here are some examples of where it's being used or could be used:\n\n* **Autonomous Vehicles:** Self-driving cars are a prime example. They perceive their surroundings (using cameras and sensors), plan routes, and take actions (steering, accelerating, braking) to reach their destination.\n* **Personalized Education:** Imagine an AI tutor that adapts to a student's learning style and pace, creating personalized lesson plans and providing individualized feedback.\n* **Robotics:** Robots that can perform complex tasks in unstructured environments, such as cleaning, manufacturing, or disaster response, require agentic capabilities.\n* **Supply Chain Management:** An AI that can monitor inventory levels, predict demand, and automatically adjust orders to minimize waste and ensure timely delivery.\n* **Scientific Discovery:** AI agents that can analyze vast amounts of scientific data, formulate hypotheses, and design experiments to accelerate the pace of research.\n* **Personal Assistants:** Going beyond simple scheduling, these could proactively manage your finances, plan your travel, or even help you achieve your personal goals.\n* **Cybersecurity:** AI agents that can detect and respond to cyber threats in real-time, autonomously protecting systems from attacks.\n\n**Benefits of Agentic AI:**\n\n* **Increased Efficiency:** Automating complex tasks and processes.\n* **Improved Decision-Making:** Analyzing large datasets and making informed choices.\n* **Enhanced Productivity:** Freeing up human time and resources for more creative and strategic work.\n* **Personalization:** Tailoring experiences and services to individual needs.\n* **Innovation:** Accelerating the pace of scientific discovery and technological advancement.\n\n**Challenges and Considerations:**\n\n* **Ethical Concerns:** Ensuring that AI agents act in a responsible and ethical manner, avoiding bias and unintended consequences.\n* **Safety:** Preventing AI agents from causing harm or making mistakes that could have serious repercussions.\n* **Transparency:** Understanding how AI agents make decisions, which can be challenging with complex systems.\n* **Control:** Maintaining human oversight and control over AI agents, especially as they become more autonomous.\n\n**In Conclusion:**\n\nAgentic AI represents a significant step forward in the field of artificial intelligence. It's moving beyond simple task automation to creating AI systems that can think, plan, and act autonomously. While still in its early stages, Agentic AI has the potential to revolutionize many aspects of our lives, from how we work and learn to how we interact with the world around us. However, it's crucial to address the ethical and safety challenges to ensure that this powerful technology is used for the benefit of humanity.\n"
          },
          "metadata": {}
        },
        {
          "output_type": "stream",
          "name": "stdout",
          "text": [
            "\n",
            "\n",
            "\n",
            "Second chain:\n",
            "\n",
            "\n"
          ]
        },
        {
          "output_type": "display_data",
          "data": {
            "text/plain": [
              "<IPython.core.display.Markdown object>"
            ],
            "text/markdown": "Okay, here's a detailed markdown explanation of Agentic AI, based on the provided text:\n\n# Introduction\n\nAgentic AI represents a significant evolution in the field of artificial intelligence, moving beyond passive, reactive systems to proactive, autonomous agents. Instead of simply responding to specific inputs, Agentic AI can perceive its environment, plan actions, execute those plans, and learn from its experiences. This allows it to pursue goals without constant human intervention, marking a shift towards more intelligent and independent AI systems.\n\n## Key Concepts\n\n*   **Autonomy:** The core characteristic of Agentic AI is its ability to act independently and make decisions without explicit instructions at every step.\n*   **Proactive vs. Reactive:** Unlike traditional AI that reacts to inputs, Agentic AI is proactive, initiating actions to achieve goals.\n*   **Perceive, Plan, Act, Learn:** These four pillars define the operational cycle of an Agentic AI:\n    *   **Perceive:** Gathering information from the environment.\n    *   **Plan:** Creating a strategy to achieve a goal.\n    *   **Act:** Executing the plan.\n    *   **Learn:** Improving performance based on past experiences.\n*   **Goal-Oriented:** Agentic AI is designed to pursue specific objectives, making it more than just a tool; it's an active problem solver.\n*   **\"Mind\" of its Own:** While programmed, Agentic AI possesses a level of decision-making capability that gives it a semblance of autonomy.\n\n## In-depth Analysis\n\n### Core Components:\n\n1.  **Perception:** This involves collecting data through various sensors or inputs. It's the AI's method of understanding its environment. This can include analyzing text, images, audio, or user commands.\n2.  **Planning:** Once the AI has perceived its environment, it develops a plan of action. This often involves breaking down complex goals into smaller, manageable steps and determining the optimal path to achieve them.\n3.  **Action:** This is where the AI executes its plan, taking steps in either the real world or a digital environment. Actions can range from sending emails to controlling robots or manipulating data.\n4.  **Learning:** After acting, the AI monitors the results and uses this feedback to improve its future performance. This could involve refining its strategies, adjusting parameters, or learning new skills through experience.\n\n### Differences from Traditional AI:\n\nTraditional AI, such as image recognition or spam filters, is largely reactive. It responds to specific inputs with pre-determined outputs. Agentic AI, on the other hand, is proactive and can initiate actions to achieve a larger goal. The analogy of a calculator (traditional AI) versus a personal assistant (Agentic AI) clearly illustrates this difference.\n\n### Benefits of Agentic AI:\n\n*   **Increased Efficiency:** Automating complex tasks and processes.\n*   **Improved Decision-Making:** Analyzing large datasets and making more informed choices.\n*   **Enhanced Productivity:** Freeing human resources for more strategic and creative tasks.\n*   **Personalization:** Tailoring experiences and services to individual needs.\n*   **Innovation:** Accelerating the pace of scientific discovery and technological advancement.\n\n### Challenges and Considerations:\n\n*   **Ethical Concerns:** Ensuring AI agents act ethically and responsibly, avoiding bias and unintended consequences.\n*   **Safety:** Preventing AI agents from causing harm or making critical errors.\n*   **Transparency:** Understanding how AI agents make decisions, which can be challenging with complex systems.\n*   **Control:** Maintaining human oversight and control over AI agents, especially as they become more autonomous.\n\n## Examples or Applications\n\nAgentic AI is being applied or has potential in numerous fields:\n\n*   **Autonomous Vehicles:** Self-driving cars perceive surroundings, plan routes, and execute actions to navigate.\n*   **Personalized Education:** AI tutors that adapt to individual learning styles, creating customized lessons and providing personalized feedback.\n*   **Robotics:** Robots performing complex tasks in dynamic environments, like cleaning, manufacturing, or disaster response.\n*   **Supply Chain Management:** AI monitoring inventory, predicting demand, and automatically adjusting orders.\n*   **Scientific Discovery:** AI analyzing data, formulating hypotheses, and designing experiments to accelerate research.\n*   **Personal Assistants:** Proactively managing finances, travel, or even personal goals.\n*   **Cybersecurity:** AI agents detecting and responding to threats in real-time, autonomously protecting systems.\n\n## Conclusion\n\nAgentic AI marks a pivotal shift in the landscape of artificial intelligence, moving towards more autonomous and intelligent systems. By combining perception, planning, action, and learning capabilities, Agentic AI has the potential to transform many aspects of our lives, from how we work and learn to how we interact with the world. However, it is crucial"
          },
          "metadata": {}
        },
        {
          "output_type": "stream",
          "name": "stdout",
          "text": [
            "\n",
            "\n",
            "\n",
            "Third chain:\n",
            "\n",
            "\n"
          ]
        },
        {
          "output_type": "display_data",
          "data": {
            "text/plain": [
              "<IPython.core.display.Markdown object>"
            ],
            "text/markdown": "Okay, here's a structured image generation prompt based on the provided explanation, aiming for a clear and visually compelling representation of Agentic AI:\n\n**Prompt:**\n\n\"A dynamic and futuristic scene depicting the concept of Agentic AI. In the center, visualize a stylized, translucent AI core, glowing with a soft, pulsing blue light. This core is surrounded by four interconnected, flowing lines of light, each representing a core function of Agentic AI: Perception (a line extending towards an eye symbol analyzing data), Planning (a line leading to a stylized brain silhouette with interconnected nodes), Action (a line connecting to a robotic arm performing a task), and Learning (a line feeding back into the core, represented by a growing, branching neural network).\n\nThe background should be a vast, interconnected"
          },
          "metadata": {}
        }
      ]
    }
  ]
}