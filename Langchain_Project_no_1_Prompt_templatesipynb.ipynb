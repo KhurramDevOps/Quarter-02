{
  "nbformat": 4,
  "nbformat_minor": 0,
  "metadata": {
    "colab": {
      "provenance": [],
      "gpuType": "T4",
      "authorship_tag": "ABX9TyPnSnwwUyaZX855gj0K+Yxo",
      "include_colab_link": true
    },
    "kernelspec": {
      "name": "python3",
      "display_name": "Python 3"
    },
    "language_info": {
      "name": "python"
    },
    "accelerator": "GPU"
  },
  "cells": [
    {
      "cell_type": "markdown",
      "metadata": {
        "id": "view-in-github",
        "colab_type": "text"
      },
      "source": [
        "<a href=\"https://colab.research.google.com/github/KhurramDevOps/Quarter-02/blob/master/Langchain_Project_no_1_Prompt_templatesipynb.ipynb\" target=\"_parent\"><img src=\"https://colab.research.google.com/assets/colab-badge.svg\" alt=\"Open In Colab\"/></a>"
      ]
    },
    {
      "cell_type": "markdown",
      "source": [
        "# **LangChain and Google Gemini Flash 2.0 Integration**"
      ],
      "metadata": {
        "id": "gdhonVRIMn8G"
      }
    },
    {
      "cell_type": "code",
      "execution_count": 1,
      "metadata": {
        "id": "W_TjaGLh5qj6"
      },
      "outputs": [],
      "source": [
        "from google.colab import userdata\n",
        "GOOGLE_API_KEY = userdata.get('GEMINI_API_KEY')"
      ]
    },
    {
      "cell_type": "code",
      "source": [
        "!pip install --upgrade --quiet langchain_google_genai"
      ],
      "metadata": {
        "colab": {
          "base_uri": "https://localhost:8080/"
        },
        "collapsed": true,
        "id": "uuKHSb3d6Sv_",
        "outputId": "29c44de6-a300-47ed-8beb-9ab15e86737f"
      },
      "execution_count": 2,
      "outputs": [
        {
          "output_type": "stream",
          "name": "stdout",
          "text": [
            "\u001b[?25l   \u001b[90m━━━━━━━━━━━━━━━━━━━━━━━━━━━━━━━━━━━━━━━━\u001b[0m \u001b[32m0.0/41.3 kB\u001b[0m \u001b[31m?\u001b[0m eta \u001b[36m-:--:--\u001b[0m\r\u001b[2K   \u001b[90m━━━━━━━━━━━━━━━━━━━━━━━━━━━━━━━━━━━━━━━━\u001b[0m \u001b[32m41.3/41.3 kB\u001b[0m \u001b[31m3.8 MB/s\u001b[0m eta \u001b[36m0:00:00\u001b[0m\n",
            "\u001b[?25h"
          ]
        }
      ]
    },
    {
      "cell_type": "markdown",
      "source": [
        "# **1. Defining Prompt Templates**"
      ],
      "metadata": {
        "id": "U25NS7ViKz2W"
      }
    },
    {
      "cell_type": "code",
      "source": [
        "from langchain_google_genai import ChatGoogleGenerativeAI\n",
        "from langchain.prompts import PromptTemplate\n",
        "from IPython.display import Markdown, display"
      ],
      "metadata": {
        "id": "8SHm74qL6bkW"
      },
      "execution_count": 3,
      "outputs": []
    },
    {
      "cell_type": "code",
      "source": [
        "# Define the first Prompt Template\n",
        "first_prompt = PromptTemplate(\n",
        "    input_variables = [\"question\"],\n",
        "    template=\"\"\"\n",
        "Provide a detailed explanation of the topic: \"{question}\".\n",
        "\n",
        "The explanation should:\n",
        "- Be clear and easy to understand for a general audience.\n",
        "- Include relevant examples or applications, if possible.\n",
        "- Avoid unnecessary jargon while maintaining accuracy\n",
        "    \"\"\"\n",
        ")\n",
        "\n",
        "# Define the second prompt Template\n",
        "second_prompt = PromptTemplate(\n",
        "    input_variables = [\"first_response\"],\n",
        "    template=\"\"\"\n",
        "Based on the following response: \"{first_response}\", create a detailed markdown explanation.\n",
        "\n",
        "The markdown explanation should include:\n",
        "# Introduction\n",
        "A brief overview of the topic.\n",
        "\n",
        "## Key Concepts\n",
        "Main ideas or points related to the topic.\n",
        "\n",
        "## In-depth Analysis\n",
        "A deeper exploration of critical subtopics or concepts.\n",
        "\n",
        "## Examples or Applications\n",
        "Relevant real-world examples, applications, or scenarios.\n",
        "\n",
        "## Conclusion\n",
        "A summary that reinforces the key takeaways.\n",
        "\"\"\"\n",
        ")\n",
        "\n",
        "# Define the third Prompt Template\n",
        "third_prompt = PromptTemplate(\n",
        "    input_variables = [\"second_response\"],\n",
        "    template=\"\"\"\n",
        "Convert the following detailed explanation into a well-structured image generation prompt:\n",
        "{second_response}\n",
        "\n",
        "The image generation prompt should:\n",
        "- Be specific, vivid, and descriptive.\n",
        "- Highlight key visual elements, styles, or themes.\n",
        "- Provide sufficient details to create a realistic or artistic image.\n",
        "- Avoid ambiguity to ensure accurate image generation.\n",
        "\"\"\"\n",
        ")"
      ],
      "metadata": {
        "id": "u_ztiDVK6qt5"
      },
      "execution_count": 4,
      "outputs": []
    },
    {
      "cell_type": "markdown",
      "source": [
        "# **2. Configuring ChatGoogleGenerativeAI model**"
      ],
      "metadata": {
        "id": "CQO3w1giLKJ1"
      }
    },
    {
      "cell_type": "code",
      "source": [
        "# Configure the ChatGoogleGenerativeAI model\n",
        "llm = ChatGoogleGenerativeAI(\n",
        "    api_key=GOOGLE_API_KEY,\n",
        "    temperature=0.4,\n",
        "    model=\"gemini-2.0-flash-exp\",\n",
        ")\n",
        "\n",
        "llm2 = ChatGoogleGenerativeAI(\n",
        "    api_key=GOOGLE_API_KEY,\n",
        "    temperature=0.6,\n",
        "    model=\"gemini-2.0-flash-exp\",\n",
        "    max_output_tokens=1000,\n",
        ")\n",
        "\n",
        "llm3 = ChatGoogleGenerativeAI(\n",
        "    api_key=GOOGLE_API_KEY,\n",
        "    temperature=0.7,\n",
        "    model=\"gemini-2.0-flash-exp\",\n",
        "    max_output_tokens=300,\n",
        ")\n"
      ],
      "metadata": {
        "id": "SUzn_VvC7Qnp"
      },
      "execution_count": 34,
      "outputs": []
    },
    {
      "cell_type": "markdown",
      "source": [
        "# **3. Creating Chains and getting Responses**"
      ],
      "metadata": {
        "id": "TxrFNrRsLAmy"
      }
    },
    {
      "cell_type": "code",
      "source": [
        "# Creating Chains for the prompts\n",
        "first_chain = first_prompt | llm\n",
        "second_chain = second_prompt | llm2\n",
        "third_chain = third_prompt | llm3"
      ],
      "metadata": {
        "id": "DT1w-DKN8BZL"
      },
      "execution_count": 35,
      "outputs": []
    },
    {
      "cell_type": "code",
      "source": [
        "# Get the first response\n",
        "text = \"Agentic AI\"\n",
        "first_response = first_chain.invoke({\"question\": text})\n",
        "print(\"\\n\\n\\nFirst chain:\\n\\n\")\n",
        "display(Markdown(first_response.content))\n",
        "\n",
        "# Get the second response\n",
        "second_response = second_chain.invoke({\"first_response\": first_response.content})\n",
        "print(\"\\n\\n\\nSecond chain:\\n\\n\")\n",
        "display(Markdown(second_response.content))\n",
        "\n",
        "# Get the third response\n",
        "third_response = third_chain.invoke({\"second_response\": second_response.content})\n",
        "print(\"\\n\\n\\nThird chain:\\n\\n\")\n",
        "display(Markdown(third_response.content))"
      ],
      "metadata": {
        "colab": {
          "base_uri": "https://localhost:8080/",
          "height": 1000
        },
        "id": "1TgUXFXJ8-ZJ",
        "outputId": "564c0c0a-bfd0-40d5-d16e-18dfb832f0b4"
      },
      "execution_count": 36,
      "outputs": [
        {
          "output_type": "stream",
          "name": "stdout",
          "text": [
            "\n",
            "\n",
            "\n",
            "First chain:\n",
            "\n",
            "\n"
          ]
        },
        {
          "output_type": "display_data",
          "data": {
            "text/plain": [
              "<IPython.core.display.Markdown object>"
            ],
            "text/markdown": "Okay, let's break down the concept of \"Agentic AI\" in a way that's easy to grasp.\n\n**What is Agentic AI?**\n\nImagine a regular AI program as a very skilled, but somewhat passive, worker. You give it a specific task, like \"write a summary of this article\" or \"classify these images,\" and it does it well. It's reactive. Agentic AI, on the other hand, is like giving that AI worker more autonomy and initiative. It's not just following instructions; it's actively figuring out *how* to achieve a goal, and it can even set its own sub-goals along the way.\n\nThink of it this way:\n\n* **Regular AI:** A chef following a recipe step-by-step.\n* **Agentic AI:** A chef who can not only follow a recipe but also decide to adjust it based on available ingredients, taste preferences, or even invent a new dish entirely to satisfy a customer.\n\n**Key Characteristics of Agentic AI:**\n\n1. **Goal-Oriented:** Agentic AI is driven by a specific objective. It's not just doing random tasks; it's working towards a defined outcome.\n2. **Autonomous:** It can make decisions and take actions independently, without constant human intervention. It can plan, execute, and adapt its approach.\n3. **Interactive with Environment:** It can perceive and interact with its surroundings (which could be digital or physical). It can gather information, learn from feedback, and adjust its strategies.\n4. **Iterative and Adaptive:** It doesn't just perform a task once and stop. It can continuously learn, refine its approach, and improve its performance over time.\n5. **Planning and Reasoning:** It can break down complex goals into smaller, manageable steps and reason about the best way to achieve them.\n\n**How Does Agentic AI Work?**\n\nAt its core, Agentic AI uses a combination of different AI techniques, often including:\n\n* **Large Language Models (LLMs):** These are the powerful AI models that understand and generate human-like text. They're often used for planning, reasoning, and generating instructions for the agent.\n* **Planning Algorithms:** These algorithms help the agent break down a complex goal into a sequence of actions.\n* **Reinforcement Learning:** This allows the agent to learn from its experiences and improve its performance over time through trial and error.\n* **Tools and APIs:** Agentic AI can interact with various tools and APIs (Application Programming Interfaces) to gather information, perform actions, and achieve its goals. This could include web browsers, databases, code editors, and more.\n\n**Examples and Applications of Agentic AI:**\n\nHere are some ways Agentic AI is being used or could be used in the future:\n\n* **Personal Assistants on Steroids:** Imagine a personal assistant that doesn't just set reminders but can proactively plan your entire trip, book flights and hotels, and even adjust the itinerary based on real-time traffic and weather conditions.\n* **Autonomous Research:** An agent could be given a research question and then independently explore scientific literature, analyze data, and synthesize findings, potentially accelerating scientific discovery.\n* **Complex Project Management:** Agentic AI could manage complex projects by breaking them down into tasks, assigning resources, tracking progress, and adapting to changes in the project environment.\n* **Software Development:** An agent could write code, debug it, and even test it, significantly speeding up the software development process.\n* **Cybersecurity:** Agentic AI could proactively detect and respond to cyber threats, learning from past attacks and adapting its defenses in real-time.\n* **Robotics:** Autonomous robots could use agentic AI to navigate complex environments, perform tasks, and adapt to unforeseen circumstances.\n\n**Why is Agentic AI Important?**\n\nAgentic AI represents a significant shift in how we interact with AI. It moves beyond simple task automation to enable AI to tackle more complex and open-ended problems. This has the potential to:\n\n* **Increase Efficiency and Productivity:** By automating complex tasks and decision-making processes, agentic AI can free up human time and resources.\n* **Solve Complex Problems:** Agentic AI can tackle problems that are too complex for humans to handle alone, such as scientific research, climate change modeling, and drug discovery.\n* **Create New Opportunities:** It can lead to the development of new products, services, and industries that were previously impossible.\n\n**Challenges and Considerations:**\n\nWhile Agentic AI is incredibly promising, there are also challenges and considerations:\n\n* **Ethical Concerns:** We need to ensure that agentic AI is used responsibly and ethically, avoiding bias and unintended consequences.\n* **Safety and Control:** We need to develop mechanisms to control and monitor agentic AI to prevent it from acting in ways that are harmful or undesirable.\n* **Complexity:** Developing and deploying agentic AI is complex and requires significant expertise and resources.\n\n**In Conclusion:**\n\nAgentic AI is a powerful and transformative technology that is poised to revolutionize many aspects of our lives. It's about moving beyond passive AI to create AI systems that are proactive, autonomous, and capable of tackling complex problems. While there are challenges to overcome, the potential benefits of agentic AI are enormous, and it's an area of AI that is rapidly evolving. As we continue to develop and refine these technologies, we can expect to see even more innovative and impactful applications in the years to come.\n"
          },
          "metadata": {}
        },
        {
          "output_type": "stream",
          "name": "stdout",
          "text": [
            "\n",
            "\n",
            "\n",
            "Second chain:\n",
            "\n",
            "\n"
          ]
        },
        {
          "output_type": "display_data",
          "data": {
            "text/plain": [
              "<IPython.core.display.Markdown object>"
            ],
            "text/markdown": "Okay, here's a detailed markdown explanation of Agentic AI, based on the provided text:\n\n# Introduction\n\nAgentic AI represents a significant leap forward in the field of artificial intelligence. Unlike traditional AI, which primarily responds to specific instructions, Agentic AI is designed to be proactive and autonomous. It can set its own goals, plan its actions, and adapt to its environment, making it a powerful tool for tackling complex problems. This explanation will break down the core concepts of Agentic AI, explore its workings, and highlight its potential applications and challenges.\n\n## Key Concepts\n\n*   **Autonomous and Proactive:** Agentic AI is not merely a reactive tool; it takes initiative and makes decisions independently to achieve its goals.\n*   **Goal-Oriented:** It's driven by specific objectives rather than just performing isolated tasks.\n*   **Interactive with Environment:** It can perceive and interact with its surroundings, gathering information and adjusting its strategies.\n*   **Iterative and Adaptive:** It learns from experience, refining its approach and improving performance over time.\n*   **Planning and Reasoning:** It can break down complex goals into manageable steps and strategize to achieve them effectively.\n\n## In-depth Analysis\n\n### What Distinguishes Agentic AI from Regular AI?\n\nThe fundamental difference lies in the level of autonomy and initiative. Regular AI acts like a skilled worker following a rigid set of instructions. Agentic AI, on the other hand, is like a resourceful individual who not only understands the goal but also figures out the best way to reach it.\n\n*   **Regular AI (Reactive):** Think of a chef following a recipe step-by-step. It executes pre-defined tasks based on direct input.\n*   **Agentic AI (Proactive):** Envision a chef who can adjust a recipe based on available ingredients, customer preferences, or even create an entirely new dish. It can plan, adapt, and innovate.\n\n### How Does Agentic AI Function?\n\nAgentic AI leverages a combination of advanced AI techniques:\n\n1.  **Large Language Models (LLMs):**  LLMs are crucial for understanding and generating human-like text. They enable the agent to reason, plan, and generate instructions.\n\n2.  **Planning Algorithms:** These algorithms allow the agent to break down complex goals into a sequence of manageable actions, creating a plan for execution.\n\n3.  **Reinforcement Learning:**  This technique enables the agent to learn through trial and error, improving performance over time by rewarding successful actions.\n\n4.  **Tools and APIs:** Agentic AI can interact with various tools and APIs (Application Programming Interfaces), allowing it to gather information, perform actions, and achieve its goals. This can include web browsers, databases, code editors, and more.\n\n### The Significance of Agentic AI\n\nAgentic AI marks a shift from simple task automation to enabling AI to tackle more complex and open-ended problems. This has the potential to:\n\n*   **Increase Efficiency and Productivity:** Automating complex tasks and decision-making processes frees up human resources and time.\n*   **Solve Complex Problems:** Agentic AI can tackle challenges that are too complex for humans alone, such as scientific research, climate change modeling, and drug discovery.\n*   **Create New Opportunities:** It can foster the development of new products, services, and industries previously considered impossible.\n\n### Challenges and Considerations\n\nWhile promising, Agentic AI presents challenges:\n\n*   **Ethical Concerns:** Ensuring responsible and ethical use of Agentic AI is crucial to avoid bias and unintended consequences.\n*   **Safety and Control:** Developing mechanisms to control and monitor Agentic AI is necessary to prevent harmful or undesirable actions.\n*   **Complexity:** Developing and deploying Agentic AI is complex and requires significant expertise and resources.\n\n## Examples or Applications\n\nAgentic AI is being used or has the potential to be used in various domains:\n\n*   **Enhanced Personal Assistants:** Moving beyond simple reminders, these assistants could proactively plan trips, book accommodations, and adjust itineraries based on real-time conditions.\n*   **Autonomous Research:** Agents could independently explore scientific literature, analyze data, and synthesize findings, accelerating the pace of scientific discovery.\n*   **Complex Project Management:** Agentic AI can manage complex projects by breaking them into tasks, assigning resources, tracking progress, and adapting to changes.\n*   **Software Development:** Agents could write, debug, and test code, speeding up the software development process.\n*   **Cybersecurity:** Agentic AI can proactively detect and respond to cyber threats, learning from past attacks and adapting its defenses in real-time.\n*   **Robotics:** Autonomous robots could use Agentic AI to navigate complex environments, perform tasks, and adapt to unforeseen circumstances.\n\n## Conclusion\n\nAgentic AI is a powerful and transformative technology poised"
          },
          "metadata": {}
        },
        {
          "output_type": "stream",
          "name": "stdout",
          "text": [
            "\n",
            "\n",
            "\n",
            "Third chain:\n",
            "\n",
            "\n"
          ]
        },
        {
          "output_type": "display_data",
          "data": {
            "text/plain": [
              "<IPython.core.display.Markdown object>"
            ],
            "text/markdown": "Okay, here's a structured image generation prompt based on the provided text, designed to be clear and evocative:\n\n**Image Generation Prompt:**\n\n**Subject:** A futuristic, interconnected network representing Agentic AI.\n\n**Visual Description:**\n\n*   **Central Element:** A glowing, pulsating core representing the central processing unit of an Agentic AI. This core should be intricate, with visible energy flows and pathways. It should feel powerful and intelligent.\n*   **Network Connections:** Radiating out from the core are luminous, interconnected lines that resemble neural pathways. These lines should branch and connect to various nodes representing different functions and tools.\n*   **Nodes/Elements:**\n    *   **Data Globes:** Some nodes should be glowing data globes, swirling with information, representing data gathering and analysis.\n    *   **Tool Icons:** Others should be stylized icons representing various tools and APIs, such as a web browser icon, a database cylinder, a code editor, and a robotic arm. These icons should be sleek and futuristic.\n    *   **Task Representations:** Some nodes could show abstract representations of tasks like project management flowcharts, scientific research graphs, and code snippets.\n*   **Environment:** The network should be set against a dark, abstract background, creating a sense of depth and highlighting the luminous elements. Perhaps a subtle hint of a digital cityscape or a starry sky in the background for context.\n*   **Style:** The overall style should be a"
          },
          "metadata": {}
        }
      ]
    }
  ]
}